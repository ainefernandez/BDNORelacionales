{
 "cells": [
  {
   "cell_type": "code",
   "execution_count": 2,
   "id": "17ca16fa",
   "metadata": {},
   "outputs": [],
   "source": [
    "import numpy as np \n",
    "import pandas as pd \n",
    "from scipy.stats import poisson\n"
   ]
  },
  {
   "cell_type": "code",
   "execution_count": 3,
   "id": "df8d915a",
   "metadata": {},
   "outputs": [
    {
     "data": {
      "text/plain": [
       "0    2.92\n",
       "Name: Parameter, dtype: float64"
      ]
     },
     "execution_count": 3,
     "metadata": {},
     "output_type": "execute_result"
    }
   ],
   "source": [
    "data=[[1,\"A\",2.92],[1,\"O\",2.5],[2,\"S\",3.75],[2,\"R\",6.5],\n",
    "      [3,\"A\",4.04],[2,\"A\",3.45],[2,\"O\",5],[2,\"D\",3.10],\n",
    "     [1,\"R\",3.7],[3,\"O\",5],[3,\"D\",4.67],[3,\"S\",3.57],\n",
    "     [1,\"D\",3.14],[3,\"R\",7.19],[1,\"S\",2.67]]\n",
    "parameters=pd.DataFrame(data,columns=[\"CircuitType\",\"CauseType\",\"Parameter\"])\n",
    "parameters.loc[(parameters[\"CircuitType\"]==1)& (parameters[\"CauseType\"]==\"A\")][\"Parameter\"]\n"
   ]
  },
  {
   "cell_type": "code",
   "execution_count": 4,
   "id": "60de6838",
   "metadata": {},
   "outputs": [
    {
     "data": {
      "text/html": [
       "<div>\n",
       "<style scoped>\n",
       "    .dataframe tbody tr th:only-of-type {\n",
       "        vertical-align: middle;\n",
       "    }\n",
       "\n",
       "    .dataframe tbody tr th {\n",
       "        vertical-align: top;\n",
       "    }\n",
       "\n",
       "    .dataframe thead th {\n",
       "        text-align: right;\n",
       "    }\n",
       "</style>\n",
       "<table border=\"1\" class=\"dataframe\">\n",
       "  <thead>\n",
       "    <tr style=\"text-align: right;\">\n",
       "      <th></th>\n",
       "      <th>CircuitType</th>\n",
       "      <th>CauseType</th>\n",
       "      <th>Parameter</th>\n",
       "    </tr>\n",
       "  </thead>\n",
       "  <tbody>\n",
       "    <tr>\n",
       "      <th>0</th>\n",
       "      <td>1</td>\n",
       "      <td>A</td>\n",
       "      <td>2.92</td>\n",
       "    </tr>\n",
       "    <tr>\n",
       "      <th>1</th>\n",
       "      <td>1</td>\n",
       "      <td>O</td>\n",
       "      <td>2.50</td>\n",
       "    </tr>\n",
       "    <tr>\n",
       "      <th>2</th>\n",
       "      <td>2</td>\n",
       "      <td>S</td>\n",
       "      <td>3.75</td>\n",
       "    </tr>\n",
       "    <tr>\n",
       "      <th>3</th>\n",
       "      <td>2</td>\n",
       "      <td>R</td>\n",
       "      <td>6.50</td>\n",
       "    </tr>\n",
       "    <tr>\n",
       "      <th>4</th>\n",
       "      <td>3</td>\n",
       "      <td>A</td>\n",
       "      <td>4.04</td>\n",
       "    </tr>\n",
       "    <tr>\n",
       "      <th>5</th>\n",
       "      <td>2</td>\n",
       "      <td>A</td>\n",
       "      <td>3.45</td>\n",
       "    </tr>\n",
       "    <tr>\n",
       "      <th>6</th>\n",
       "      <td>2</td>\n",
       "      <td>O</td>\n",
       "      <td>5.00</td>\n",
       "    </tr>\n",
       "    <tr>\n",
       "      <th>7</th>\n",
       "      <td>2</td>\n",
       "      <td>D</td>\n",
       "      <td>3.10</td>\n",
       "    </tr>\n",
       "    <tr>\n",
       "      <th>8</th>\n",
       "      <td>1</td>\n",
       "      <td>R</td>\n",
       "      <td>3.70</td>\n",
       "    </tr>\n",
       "    <tr>\n",
       "      <th>9</th>\n",
       "      <td>3</td>\n",
       "      <td>O</td>\n",
       "      <td>5.00</td>\n",
       "    </tr>\n",
       "    <tr>\n",
       "      <th>10</th>\n",
       "      <td>3</td>\n",
       "      <td>D</td>\n",
       "      <td>4.67</td>\n",
       "    </tr>\n",
       "    <tr>\n",
       "      <th>11</th>\n",
       "      <td>3</td>\n",
       "      <td>S</td>\n",
       "      <td>3.57</td>\n",
       "    </tr>\n",
       "    <tr>\n",
       "      <th>12</th>\n",
       "      <td>1</td>\n",
       "      <td>D</td>\n",
       "      <td>3.14</td>\n",
       "    </tr>\n",
       "    <tr>\n",
       "      <th>13</th>\n",
       "      <td>3</td>\n",
       "      <td>R</td>\n",
       "      <td>7.19</td>\n",
       "    </tr>\n",
       "    <tr>\n",
       "      <th>14</th>\n",
       "      <td>1</td>\n",
       "      <td>S</td>\n",
       "      <td>2.67</td>\n",
       "    </tr>\n",
       "  </tbody>\n",
       "</table>\n",
       "</div>"
      ],
      "text/plain": [
       "    CircuitType CauseType  Parameter\n",
       "0             1         A       2.92\n",
       "1             1         O       2.50\n",
       "2             2         S       3.75\n",
       "3             2         R       6.50\n",
       "4             3         A       4.04\n",
       "5             2         A       3.45\n",
       "6             2         O       5.00\n",
       "7             2         D       3.10\n",
       "8             1         R       3.70\n",
       "9             3         O       5.00\n",
       "10            3         D       4.67\n",
       "11            3         S       3.57\n",
       "12            1         D       3.14\n",
       "13            3         R       7.19\n",
       "14            1         S       2.67"
      ]
     },
     "execution_count": 4,
     "metadata": {},
     "output_type": "execute_result"
    }
   ],
   "source": [
    "parameters"
   ]
  },
  {
   "cell_type": "code",
   "execution_count": 5,
   "id": "f20a7f9a",
   "metadata": {},
   "outputs": [],
   "source": [
    "circuit_type_1=[\"Melbourne Grand Prix Circuit\", \"Istanbul\",\"Sochi�\",\"Sochi\",\"Circuit Paul Ricard\", \"Sepang\",\"Spa-Francorchamps\",\"Mugello\",\n",
    "                \"Hockenheimring\",\"Bahrain\",\"Silverstone\",\"Autodromo Hermanos Rodriguez\",\"Hungaroring\",\"Yas Marina\"]\n",
    "circuit_type_2=[\"Red Bull Ring\", \"Baku City Circuit\",\"Circuit of the Americas\", \"Autodromo Enzo e Dino Ferrari\", \"Shanghai\", \n",
    "                \"Circuit Gilles Villeneuve\", \"Nurburgring\",\"N�rburgring\"]\n",
    "circuit_type_3=[\"Jeddah Corniche Circuit\",\"Magny-Cours\",\"Circuit de Catalunya\",\"Marina Bay\",\"Interlagos\",\"Miami\",\"Algarve\"\n",
    "               \"Circuit de Monaco\",\"Autodromo Oscar Alfredo Galvez\",\"Valencia\",\"Indianapolis Motor Speedway\",\"Korea\",\n",
    "                \"Susuka\", \"Zandvoort\",\"Monza\",\"Mosport Park\"]"
   ]
  },
  {
   "cell_type": "code",
   "execution_count": 6,
   "id": "2be6882b",
   "metadata": {},
   "outputs": [],
   "source": [
    "parameters=pd.DataFrame(data,columns=[\"CircuitType\",\"CauseType\",\"Parameter\"])\n",
    "def safetycar(circuit,typeofincident,lapstiltheend): \n",
    "    if circuit in circuit_type_1: \n",
    "        ct=1\n",
    "    if circuit in circuit_type_2:\n",
    "        ct=2\n",
    "    if circuit in circuit_type_3:\n",
    "        ct=3\n",
    "    parameter=parameters.loc[(parameters[\"CircuitType\"]==ct)& (parameters[\"CauseType\"]==typeofincident)][\"Parameter\"]\n",
    "    laps=lapstiltheend-2\n",
    "    prob=poisson.cdf(laps,parameter)\n",
    "    if prob>.9: \n",
    "        r=\"Safety Car\"\n",
    "    else: \n",
    "        r=\"Red Flag\"\n",
    "    return r\n",
    "\n"
   ]
  },
  {
   "cell_type": "code",
   "execution_count": 11,
   "id": "2d0baaa8",
   "metadata": {},
   "outputs": [
    {
     "data": {
      "text/plain": [
       "'Red Flag'"
      ]
     },
     "execution_count": 11,
     "metadata": {},
     "output_type": "execute_result"
    }
   ],
   "source": [
    "safetycar(\"Autodromo Hermanos Rodriguez\",\"A\",5)"
   ]
  },
  {
   "cell_type": "code",
   "execution_count": null,
   "id": "2b95e6a8",
   "metadata": {},
   "outputs": [],
   "source": []
  },
  {
   "cell_type": "code",
   "execution_count": null,
   "id": "8af5f9b7",
   "metadata": {},
   "outputs": [],
   "source": [
    "for i in range(1,11): \n",
    "    re=safetycar(\"Monza\",\"R\",i)\n",
    "    print(i,re)"
   ]
  }
 ],
 "metadata": {
  "kernelspec": {
   "display_name": "Python 3 (ipykernel)",
   "language": "python",
   "name": "python3"
  },
  "language_info": {
   "codemirror_mode": {
    "name": "ipython",
    "version": 3
   },
   "file_extension": ".py",
   "mimetype": "text/x-python",
   "name": "python",
   "nbconvert_exporter": "python",
   "pygments_lexer": "ipython3",
   "version": "3.9.12"
  }
 },
 "nbformat": 4,
 "nbformat_minor": 5
}
